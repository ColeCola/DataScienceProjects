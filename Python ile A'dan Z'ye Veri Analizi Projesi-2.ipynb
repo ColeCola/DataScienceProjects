{
 "cells": [
  {
   "cell_type": "markdown",
   "metadata": {},
   "source": [
    "# Python Veri Yapıları\n",
    "\n",
    "Python'da kullanılan bazı veri yapıları aşağıdadır. Onları uygun şekilde kullanabilmeniz için bu kütüphanelere aşina olmalıyız.\n",
    "\n",
    "Listeler - Listeler, Python'daki çok yönlü veri yapısından biridir. Bir liste, köşeli parantez içinde virgülle ayrılmış değerlerin bir listesi yazılarak kolayca tanımlanabilir. Listeler, farklı türdeki öğeleri içerebilir, ancak genellikle öğelerin hepsi aynı türdedir. Python listeleri değişebilir ve bir listenin tek tek öğeleri değiştirilebilir.\n",
    "\n",
    "Bir listeyi tanımlamak ve ona erişmek için hızlı bir örnek:"
   ]
  },
  {
   "cell_type": "code",
   "execution_count": 1,
   "metadata": {},
   "outputs": [
    {
     "data": {
      "text/plain": [
       "[0, 1, 4, 9, 16, 25]"
      ]
     },
     "execution_count": 1,
     "metadata": {},
     "output_type": "execute_result"
    }
   ],
   "source": [
    "liste = [0, 1, 4, 9, 16, 25]\n",
    "liste"
   ]
  },
  {
   "cell_type": "code",
   "execution_count": 2,
   "metadata": {},
   "outputs": [
    {
     "data": {
      "text/plain": [
       "0"
      ]
     },
     "execution_count": 2,
     "metadata": {},
     "output_type": "execute_result"
    }
   ],
   "source": [
    "liste[0] # Listenin 1. Elemanına ulaşıyoruz"
   ]
  },
  {
   "cell_type": "code",
   "execution_count": 3,
   "metadata": {},
   "outputs": [
    {
     "data": {
      "text/plain": [
       "[4, 9, 16]"
      ]
     },
     "execution_count": 3,
     "metadata": {},
     "output_type": "execute_result"
    }
   ],
   "source": [
    "liste[2:5] # dizi içerisindeki belli bir aralığa erişim.(:'dan önceki index dahil, :'dan sonraki index hariç)"
   ]
  },
  {
   "cell_type": "code",
   "execution_count": 4,
   "metadata": {},
   "outputs": [
    {
     "data": {
      "text/plain": [
       "16"
      ]
     },
     "execution_count": 4,
     "metadata": {},
     "output_type": "execute_result"
    }
   ],
   "source": [
    "liste[-2] # Eğer negatif değer belirtirsek, listenin sonundan başlayıp sayarak ilgili  değer görüntülenir."
   ]
  },
  {
   "cell_type": "code",
   "execution_count": 5,
   "metadata": {},
   "outputs": [
    {
     "data": {
      "text/plain": [
       "6"
      ]
     },
     "execution_count": 5,
     "metadata": {},
     "output_type": "execute_result"
    }
   ],
   "source": [
    "liste[2] = 6\n",
    "liste[2]"
   ]
  },
  {
   "cell_type": "markdown",
   "metadata": {},
   "source": [
    "## Dizeler(Stringler) -\n",
    "    Dizeler basitçe tek ('), çift (”) veya üçlü (''') ters virgüllerle tanımlanabilir. İşkembe tırnaklarında (''') bulunan dizeler çok satırdan geçebilir ve sıkça dizgelerde (Python'un belge oluşturma işlevleri) sıkça kullanılır. \\ bir kaçış karakteri olarak kullanılır. Lütfen Python dizelerinin değişmez olduğunu, dolayısıyla dizelerin bir kısmını değiştiremeyeceğinizi hatırlayın."
   ]
  },
  {
   "cell_type": "code",
   "execution_count": 6,
   "metadata": {},
   "outputs": [
    {
     "name": "stdout",
     "output_type": "stream",
     "text": [
      "M\n",
      "7\n",
      "Merhaba Dünya\n"
     ]
    }
   ],
   "source": [
    "bir_string = 'Merhaba'\n",
    "print(bir_string[0])\n",
    "print(len(bir_string))\n",
    "print(bir_string + ' Dünya')"
   ]
  },
  {
   "cell_type": "markdown",
   "metadata": {},
   "source": [
    "## Tuples :\n",
    "     Bir tuple, virgülle ayrılmış bir dizi değerle temsil edilir. Tuple'lar değişmezdir ve çıktı parantezlerle çevrelenir, böylece iç içe geçmiş tuple'lar doğru şekilde işlenir. Ek olarak, tuple'lar değişmez olsalar da, gerektiğinde değişken verileri tutabilirler.\n",
    "     \n",
    "Tuplelar değişmez olduğundan ve değişemediğinden, listelere kıyasla daha hızlı işlem görürler. Bu nedenle, listenizin değişmesi olası değilse, listeler yerine tuple kullanmalısınız."
   ]
  },
  {
   "cell_type": "code",
   "execution_count": 7,
   "metadata": {},
   "outputs": [
    {
     "data": {
      "text/plain": [
       "(0, 1, 4, 9, 16, 25)"
      ]
     },
     "execution_count": 7,
     "metadata": {},
     "output_type": "execute_result"
    }
   ],
   "source": [
    "tuple_ornek = 0, 1, 4, 9, 16, 25\n",
    "tuple_ornek"
   ]
  },
  {
   "cell_type": "code",
   "execution_count": 8,
   "metadata": {},
   "outputs": [
    {
     "data": {
      "text/plain": [
       "4"
      ]
     },
     "execution_count": 8,
     "metadata": {},
     "output_type": "execute_result"
    }
   ],
   "source": [
    "tuple_ornek[2]"
   ]
  },
  {
   "cell_type": "code",
   "execution_count": 9,
   "metadata": {},
   "outputs": [
    {
     "ename": "TypeError",
     "evalue": "'tuple' object does not support item assignment",
     "output_type": "error",
     "traceback": [
      "\u001b[0;31m---------------------------------------------------------------------------\u001b[0m",
      "\u001b[0;31mTypeError\u001b[0m                                 Traceback (most recent call last)",
      "\u001b[0;32m<ipython-input-9-a649c63856ca>\u001b[0m in \u001b[0;36m<module>\u001b[0;34m()\u001b[0m\n\u001b[0;32m----> 1\u001b[0;31m \u001b[0mtuple_ornek\u001b[0m\u001b[0;34m[\u001b[0m\u001b[0;36m2\u001b[0m\u001b[0;34m]\u001b[0m \u001b[0;34m=\u001b[0m \u001b[0;36m6\u001b[0m\u001b[0;34m\u001b[0m\u001b[0m\n\u001b[0m",
      "\u001b[0;31mTypeError\u001b[0m: 'tuple' object does not support item assignment"
     ]
    }
   ],
   "source": [
    "tuple_ornek[2] = 6"
   ]
  },
  {
   "cell_type": "markdown",
   "metadata": {},
   "source": [
    "## Sözlük -  D ictionary,  \n",
    "    Anahtarların benzersiz (bir sözlük içinde) olması gerekliliğiyle, sıralanmamış bir anahtar kümesidir  : değer çiftleri. Bir çift parantez boş bir sözlük oluşturur:  {}.\n",
    "   "
   ]
  },
  {
   "cell_type": "code",
   "execution_count": 10,
   "metadata": {},
   "outputs": [
    {
     "data": {
      "text/plain": [
       "{'alan': 5, 'banyo': 4, 'ev': 1, 'oda': 3}"
      ]
     },
     "execution_count": 10,
     "metadata": {},
     "output_type": "execute_result"
    }
   ],
   "source": [
    "sozluk_ornek = { 'ev' : 1, 'oda' : 3, 'banyo' : 4, 'alan' : 5}\n",
    "sozluk_ornek"
   ]
  },
  {
   "cell_type": "code",
   "execution_count": 11,
   "metadata": {},
   "outputs": [
    {
     "data": {
      "text/plain": [
       "{'alan': 5, 'balkon': 6, 'banyo': 4, 'ev': 1, 'oda': 3}"
      ]
     },
     "execution_count": 11,
     "metadata": {},
     "output_type": "execute_result"
    }
   ],
   "source": [
    "sozluk_ornek['balkon'] = 6\n",
    "sozluk_ornek"
   ]
  },
  {
   "cell_type": "code",
   "execution_count": 12,
   "metadata": {},
   "outputs": [
    {
     "data": {
      "text/plain": [
       "dict_keys(['ev', 'oda', 'banyo', 'alan', 'balkon'])"
      ]
     },
     "execution_count": 12,
     "metadata": {},
     "output_type": "execute_result"
    }
   ],
   "source": [
    "sozluk_ornek.keys()"
   ]
  },
  {
   "cell_type": "markdown",
   "metadata": {},
   "source": [
    "## Python Yineleme ve Koşullu Yapılar\n",
    "\n",
    "    Çoğu dil gibi, Python da yineleme için en çok kullanılan yöntem olan bir FOR döngüsüne sahiptir. Basit bir sözdizimi vardır:\n",
    "    \n",
    "    for i in [Python Iterable]:\n",
    "  expression(i)\n",
    " \n",
    "    Burada “Python Iterable”, sonraki bölümlerde inceleyeceğimiz bir liste, tuple veya diğer gelişmiş veri yapıları olabilir. Bir sayının faktöriyelini belirleyerek basit bir örneğe bakalım.\n",
    "\n",
    "Örnek:\n",
    "fact = 1\n",
    "for i in range(1, N+1):\n",
    "    fact *= i\n",
    "    \n",
    "    Koşullu ifadelere gelince, bunlar bir koda göre kod parçaları yürütmek için kullanılır. En yaygın kullanılan yapı, aşağıdaki sözdizimi olan if-else'tir:\n",
    "    \n",
    "if [condition]:\n",
    "  __execution if true__\n",
    "else:\n",
    "  __execution if false__\n",
    "  \n",
    "    Örneğin, N sayısının çift mi yoksa tek mi olduğunu yazdırmak istiyorsak:\n",
    "  \n",
    "  if N%2 == 0:\n",
    "  print 'Even'\n",
    "else:\n",
    "  print 'Odd'\n",
    "       \n",
    "Kodu sıfırdan yazmaya çalışırsanız, bir kabus olacak ve 2 günden fazla Python'da kalmayacaksınız! Ama bunun için endişelenmeye gerek yok. Neyse ki, bu gibi fonksiyonel matematiksel işlemleri doğrudan kodumuza aktarabilir ve hayatımızı kolaylaştırabiliriz, önceden tanımlanmış birçok kütüphane vardır,  bu kütüphaneleri kullanarak işlemlerimizi önemli derecede kolaylaştırabiliriz.\n",
    "\n",
    "Örneğin, daha önce gördüğümüz faktörleri göz önünde bulundurun. Bunu tek bir adımda yapabiliriz:\n",
    "\n",
    "        math.factorial (K)\n",
    "        \n",
    "Elbette, bunun için matematik kütüphanesini dahil etmemiz gerekiyor. Sonraki kütüphaneleride deneyerek keşfedelim."
   ]
  },
  {
   "cell_type": "code",
   "execution_count": 13,
   "metadata": {},
   "outputs": [
    {
     "data": {
      "text/plain": [
       "24"
      ]
     },
     "execution_count": 13,
     "metadata": {},
     "output_type": "execute_result"
    }
   ],
   "source": [
    "import math\n",
    "math.factorial(4)"
   ]
  },
  {
   "cell_type": "markdown",
   "metadata": {},
   "source": [
    "# Python Kütüphaneleri\n",
    "\n",
    "Python'u öğrenmek için bazı yararlı kütüphanelerle tanışarak yolculuğumuzda bir adım öne geçelim. İlk adım, onları çalışma ortamımıza(Notebook, Spyder vs.) almayı öğrenmektir. Python'da bunu yapmanın çeşitli yolları vardır:\n",
    "\n",
    "import math as m\n",
    "from math import *\n",
    "\n",
    "İlk olarak, kütüphane matematiğine bir m harfi tanımladık. Artık matematik kütüphanesinden (örn. Faktöriyel) çeşitli fonksiyonları, diğer adı m.factorial() kullanarak referans alarak kullanabiliriz.\n",
    "\n",
    "İkinci şekilde, tüm isim alanını matematikte içe aktardınız; yani, referansa() atıfta bulunmadan doğrudan matematiksel olarak kullanabilirsiniz.\n",
    "\n",
    "\n",
    "Aşağıda kütüphanelerin bir listesi vardır, herhangi birine bilimsel hesaplamalar ve veri analizi için ihtiyacınız olacak:\n",
    "\n",
    "### NumPy  ; \n",
    "     Sayısal Python anlamına gelir. NumPy'nin en güçlü özelliği n boyutlu dizi olmasıdır. Bu kütüphanede ayrıca, temel doğrusal cebir fonksiyonları, Fourier dönüşümü, gelişmiş rasgele sayı yetenekleri ve Fortran, C ve C ++ gibi diğer düşük seviyeli dillerle entegrasyon için araçlar bulunur.\n",
    "     \n",
    "### SciPy ;\n",
    "     Bilimsel Python anlamına gelir. SciPy, NumPy üzerinde kurulmuştur. Ayrık Fourier dönüşümü, Doğrusal Cebir, Optimizasyon ve Seyrek matrisler gibi üst düzey bilim ve mühendislik modülleri için en kullanışlı kütüphanelerden biridir.\n",
    "     \n",
    "### Matplotlib ; \n",
    "      Grafiksel çizimler ile verilerin görselleştirilmesi için kullanılır.\n",
    "\n",
    "\n",
    "### Pandas(Pandalar);\n",
    "     Yapısal veri işlemleri ve manipülasyonlar için pandas kütüphanesi kullanılır. Veri toplama ve hazırlama için yaygın olarak kullanılır. \n",
    "     \n",
    "### Scikit ;\n",
    "     Makine öğrenimi için gereklidir. NumPy, SciPy ve matplotlib üzerinde inşa edilmiş olan bu kütüphane makine öğrenme ve sınıflandırma, regresyon, kümeleme ve boyut indirgeme(azaltma) gibi istatistiksel modelleme için etkili birçok araç içerir.\n",
    "     \n",
    "### Statsmodels ;\n",
    "     İstatistiksel modelleme için kullanılır. Statsmodels, kullanıcıların verileri keşfetmelerini, istatistiksel modelleri tahmin etmelerini ve istatistiksel testleri gerçekleştirmelerini sağlayan bir Python modülüdür. Açıklayıcı istatistiklerin, istatistiksel testlerin, çizim fonksiyonlarının ve sonuç istatistiklerinin kapsamlı bir listesi, farklı veri türleri ve her bir tahminci için kullanılabilir.\n",
    "     \n",
    "### Seaborn ;\n",
    "     İstatistiksel veri görselleştirme için Seaborn kullanılır . Seaborn, Python'da çekici ve bilgilendirici istatistiksel grafikler oluşturmak için  kullanılan bir kütüphanedir. Matplotlibe dayanmaktadır. Seaborn, görselleştirmeyi, verileri keşfetmek ve verileri anlamada merkezi bir rol almayı amaçlıyor.\n",
    "\n",
    "### Bokeh ;\n",
    "     Modern web tarayıcılarında etkileşimli grafikler, gösterge panoları ve veri uygulamaları oluşturmak için Bokeh kullanılır. Bu kullanıcı D3.js. tarzında zarif ve özlü grafikleri oluşturmak için güçlendirir. Ayrıca, çok büyük veya akışlı veri kümeleri üzerinde yüksek performanslı etkileşim yeteneği vardır.\n",
    "     \n",
    "### Blaze ;\n",
    "     Numpy ve Pandas'ların yeteneklerini dağıtılmış ve akışlı veri kümelerine genişletmek için Blaze kullanılır. Bcolz, MongoDB, SQLAlchemy, Apache Spark, PyTables, vb. Dahil çok sayıda kaynaktan veriye erişmek için kullanılabilir. Bokeh ile birlikte Blaze, büyük veri yığınları üzerinde etkili görselleştirmeler ve gösterge panoları oluşturmak için çok güçlü bir araç işlevi görebilir.\n",
    "     \n",
    "### Scrapy ;\n",
    "     Web taraması için terapi(scraphy) kullanılır. Belirli veri modelleri elde etmek için çok kullanışlı bir çerçevedir. Bir web sitesi ev url'sinde başlamak ve daha sonra bilgi toplamak için web sayfasındaki web sayfalarını taramak yeteneğine sahiptir.\n",
    "     \n",
    "### SymPy ;\n",
    "     Sembolik hesaplama için SymPy kullanılır. Temel sembolik aritmetikden matematik, cebir, ayrık matematik ve kuantum fiziğine kadar geniş bir yelpazeye sahiptir. Bir başka kullanışlı özellik ise hesapların sonucunun LaTeX kodu olarak biçimlendirilebilmesidir.\n",
    "     \n",
    "### Requests ;\n",
    "    Web'e erişim talepleri. Standart python kütüphanesi urllib2'ye benzer şekilde çalışır ancak kodlanması daha kolaydır. Urllib2 ile ince farklar bulacaksınız ama yeni başlayanlar için, İstekler(Requests) daha uygun olabilir.\n",
    "\n",
    "Artık Python temelleri ve ek kütüphaneleriyle tanıştığımıza göre, Python ile problem çözme konusunda derinlemesine bir dalış yapabiliriz. Evet kestirimci bir model yapalım demek istiyorum! Süreçte, bazı güçlü kütüphaneler kullanıyoruz ve bir sonraki veri yapıları seviyesine geçiyoruz. \n",
    "\n",
    "    Şimdi 3 temel aşama ile bir Veri Bilimi Projesi gerçekleştireceğiz:\n",
    "    \n",
    "    1.Veri Arama - sahip olduğumuz veriler hakkında daha fazla bilgi ediniyoruz.\n",
    "    2.Data Munging - verileri daha iyi anlamak ve istatistiki modellemeyi daha iyi hale getirmek için onunla oynayacağız.\n",
    "    3.Tahminli Modelleme - gerçek algoritmaları çalıştırıp ve bu algoritmalar ile eğlenmeye başlıyoruz."
   ]
  },
  {
   "cell_type": "markdown",
   "metadata": {},
   "source": [
    "## Python'da Pandas kullanarak keşif analizi Yapıyoruz\n",
    "Pandalar(Pandas), Python'daki en kullanışlı veri analiz kütüphanelerinden biridir. Python'un veri bilimi topluluğunda kullanımını arttırmakta etkili oldular. Artık bir Kaggle yarışmasından bir veri seti okumak, keşif analizi yapmak ve bu sorunu çözmek ilk temel sınıflandırma algoritmamızı oluşturmak için Pandas'ları kullanacağız.\n",
    "\n",
    "    Verileri yüklemeden önce, Pandalar - Seri ve DataFrames'deki 2 ana veri yapısını anlayalım.\n",
    "    \n",
    " ### Seriler ve Dataframlara Giriş\n",
    "Seri 1 boyutlu etiketli/indeksli dizi olarak anlaşılabilir. Bu dizinin bireysel öğelerine bu etiketler aracılığıyla erişebilirsiniz.\n",
    "\n",
    "Bir veri çerçevesi Excel çalışma ortamına benzer - sütunlara erişilebilen sütun adlarınız vardır ve satır numaralarını kullanarak erişilebilen satırlarınız vardır. Ana çerçeve durumunda sütun adları ve satır numaralarının sütun ve satır indeksi olarak bilinmesi esas farktır.\n",
    "\n",
    "Seri ve veri çerçeveleri Python'daki Pandas için temel veri modelini oluşturur. Veri setleri ilk olarak bu veri çerçevelerinden okunur ve daha sonra çeşitli işlemler (örneğin gruplama, toplama vb.) Sütunlara kolayca uygulanabilir.\n",
    "\n",
    "Daha Fazla Bilgi için : [link](http://pandas.pydata.org/pandas-docs/stable/10min.html)\n",
    " "
   ]
  },
  {
   "cell_type": "markdown",
   "metadata": {},
   "source": [
    "# Kredi Tahmini Problemi - Uygulama \n",
    "\n",
    "## Temel Kütüphaneleri Yükleyerek Projemize başlıyoruz\n",
    "\n",
    "Bu derste kullanacağımız kütüphaneler aşağıdadır:\n",
    "\n",
    "        numpy\n",
    "        matplotlib\n",
    "        pandas"
   ]
  },
  {
   "cell_type": "code",
   "execution_count": 14,
   "metadata": {},
   "outputs": [],
   "source": [
    "import pandas as pd # Verileri analiz etmek için pandas kütüphanesini kullanıyoruz\n",
    "import numpy as np  # Sayısal Python anlamına gelir,NumPY'ın en güçlü özelliği  n boyutlu dizi olmasıdır\n",
    "import matplotlib.pyplot as plt  #Verilerimizi görselleştirmek için matplotlib kütüphanesini kullanıyoruz"
   ]
  },
  {
   "cell_type": "markdown",
   "metadata": {},
   "source": [
    "### Hızlı Veri Arama\n",
    "\n",
    "Veri kümesini okuduktan sonra, fonksiyon başlığını kullanarak birkaç satırın içeriğine bakabilirsiniz."
   ]
  },
  {
   "cell_type": "code",
   "execution_count": 46,
   "metadata": {},
   "outputs": [
    {
     "data": {
      "text/plain": [
       "(614, 13)"
      ]
     },
     "execution_count": 46,
     "metadata": {},
     "output_type": "execute_result"
    }
   ],
   "source": [
    "df = pd.read_csv('../saitalay/Projeler/VeriBilimi/AnalyticsVidya/KrediTahmini_PythonProjesi/train_kredi_tahmini.csv') #Internetten indirdiğim eğitim veri setini çalışma ortamına ekliyoruz\n",
    "df.head(10) # Veri setimizin özet bir tablosunu görüntülüyoruz, biz 10 satır verisin görüntülenmesini istedik, istersenin daha fazla satırında görüntülenmesini sağlayabilirsiniz.\n",
    "df.shape  #Veri setimiz içerisindeki satır/sütun sayırlarınıda görelim"
   ]
  },
  {
   "cell_type": "markdown",
   "metadata": {},
   "source": [
    "Yukarıda özetini gördüğümüz veri seti içerisindeki değişkenlerimizin açıklamalarına kısaca değinecek olursak;\n",
    "\n",
    "    -DEĞİŞKEN TANIMLARI: \n",
    "    -Değişken           - Açıklama \n",
    "    -Loan_ID          | Benzersiz Kredi Kimliği \n",
    "    -Gender           | Erkek / Kadın \n",
    "    -Married          | Evli / Bekar(Y / N) \n",
    "    -Dependents       | Bakmakla yükümlü olunan kişi sayısı \n",
    "    -Education        | Başvuru Sahibi (Mezun / Mezun Değil) \n",
    "    -Self_Employed    | Kendi hesabına çalışanlar (Y / N) \n",
    "    -ApplicantIncome  | Başvuran Geliri \n",
    "    -CoapplicantIncome| Ortak Başvuru sahibinin geliri\n",
    "    -LoanAmount       | Kredi miktar \n",
    "    -Loan_Amount_Term | Kredi Mikrarı  Zamanı(gün)\n",
    "    -Credit_History   | Kredi geçmişi kurallara uygundur \n",
    "    -Property_Area    | Kentsel / Yarı Kentsel / Kırsal \n",
    "    -Loan_Status      | Kredi onaylandı (Y / N)"
   ]
  },
  {
   "cell_type": "markdown",
   "metadata": {},
   "source": [
    "Bu veri setimizin sadece ilk 10 satırını yazdırmaktadır. Alternatif olarak, veri kümesini yazdırarak daha fazla satıra da bakabilirsiniz.\n",
    "\n",
    "Sonra, sayısal olan sütunların özetini describe() işlevini kullanarak görebiliriz."
   ]
  },
  {
   "cell_type": "code",
   "execution_count": 16,
   "metadata": {},
   "outputs": [
    {
     "data": {
      "text/html": [
       "<div>\n",
       "<style scoped>\n",
       "    .dataframe tbody tr th:only-of-type {\n",
       "        vertical-align: middle;\n",
       "    }\n",
       "\n",
       "    .dataframe tbody tr th {\n",
       "        vertical-align: top;\n",
       "    }\n",
       "\n",
       "    .dataframe thead th {\n",
       "        text-align: right;\n",
       "    }\n",
       "</style>\n",
       "<table border=\"1\" class=\"dataframe\">\n",
       "  <thead>\n",
       "    <tr style=\"text-align: right;\">\n",
       "      <th></th>\n",
       "      <th>ApplicantIncome</th>\n",
       "      <th>CoapplicantIncome</th>\n",
       "      <th>LoanAmount</th>\n",
       "      <th>Loan_Amount_Term</th>\n",
       "      <th>Credit_History</th>\n",
       "    </tr>\n",
       "  </thead>\n",
       "  <tbody>\n",
       "    <tr>\n",
       "      <th>count</th>\n",
       "      <td>614.000000</td>\n",
       "      <td>614.000000</td>\n",
       "      <td>592.000000</td>\n",
       "      <td>600.00000</td>\n",
       "      <td>564.000000</td>\n",
       "    </tr>\n",
       "    <tr>\n",
       "      <th>mean</th>\n",
       "      <td>5403.459283</td>\n",
       "      <td>1621.245798</td>\n",
       "      <td>146.412162</td>\n",
       "      <td>342.00000</td>\n",
       "      <td>0.842199</td>\n",
       "    </tr>\n",
       "    <tr>\n",
       "      <th>std</th>\n",
       "      <td>6109.041673</td>\n",
       "      <td>2926.248369</td>\n",
       "      <td>85.587325</td>\n",
       "      <td>65.12041</td>\n",
       "      <td>0.364878</td>\n",
       "    </tr>\n",
       "    <tr>\n",
       "      <th>min</th>\n",
       "      <td>150.000000</td>\n",
       "      <td>0.000000</td>\n",
       "      <td>9.000000</td>\n",
       "      <td>12.00000</td>\n",
       "      <td>0.000000</td>\n",
       "    </tr>\n",
       "    <tr>\n",
       "      <th>25%</th>\n",
       "      <td>2877.500000</td>\n",
       "      <td>0.000000</td>\n",
       "      <td>100.000000</td>\n",
       "      <td>360.00000</td>\n",
       "      <td>1.000000</td>\n",
       "    </tr>\n",
       "    <tr>\n",
       "      <th>50%</th>\n",
       "      <td>3812.500000</td>\n",
       "      <td>1188.500000</td>\n",
       "      <td>128.000000</td>\n",
       "      <td>360.00000</td>\n",
       "      <td>1.000000</td>\n",
       "    </tr>\n",
       "    <tr>\n",
       "      <th>75%</th>\n",
       "      <td>5795.000000</td>\n",
       "      <td>2297.250000</td>\n",
       "      <td>168.000000</td>\n",
       "      <td>360.00000</td>\n",
       "      <td>1.000000</td>\n",
       "    </tr>\n",
       "    <tr>\n",
       "      <th>max</th>\n",
       "      <td>81000.000000</td>\n",
       "      <td>41667.000000</td>\n",
       "      <td>700.000000</td>\n",
       "      <td>480.00000</td>\n",
       "      <td>1.000000</td>\n",
       "    </tr>\n",
       "  </tbody>\n",
       "</table>\n",
       "</div>"
      ],
      "text/plain": [
       "       ApplicantIncome  CoapplicantIncome  LoanAmount  Loan_Amount_Term  \\\n",
       "count       614.000000         614.000000  592.000000         600.00000   \n",
       "mean       5403.459283        1621.245798  146.412162         342.00000   \n",
       "std        6109.041673        2926.248369   85.587325          65.12041   \n",
       "min         150.000000           0.000000    9.000000          12.00000   \n",
       "25%        2877.500000           0.000000  100.000000         360.00000   \n",
       "50%        3812.500000        1188.500000  128.000000         360.00000   \n",
       "75%        5795.000000        2297.250000  168.000000         360.00000   \n",
       "max       81000.000000       41667.000000  700.000000         480.00000   \n",
       "\n",
       "       Credit_History  \n",
       "count      564.000000  \n",
       "mean         0.842199  \n",
       "std          0.364878  \n",
       "min          0.000000  \n",
       "25%          1.000000  \n",
       "50%          1.000000  \n",
       "75%          1.000000  \n",
       "max          1.000000  "
      ]
     },
     "execution_count": 16,
     "metadata": {},
     "output_type": "execute_result"
    }
   ],
   "source": [
    "df.describe()# Veri setimizin sayısal olan değişkenlerin(sütunların) özetini görüntülüyoruz ve özet bir analiz yapıyoruz."
   ]
  },
  {
   "cell_type": "markdown",
   "metadata": {},
   "source": [
    "describe () işlevi, çıktısında  satır sayısı, ortalama değeri, standart sapma (std), minimum değeri, çeyreksel(quartiles) olarak analizler ve maximum değerleri görüntüler (popülasyon dağılımını anlamak ve temel istatistik bilginizi yenilemek için [bu makaleyi](https://www.analyticsvidhya.com/blog/2014/07/statistics/) okuyun )\n",
    "\n",
    "describe() işlevinin çıktısına bakarak yapılabilecek bazı çıkarımlar:\n",
    "\n",
    "    LoanAmount          (614 - 592) 22 eksik değer varmış.\n",
    "    Loan_Amount_Term'de (614 - 600) 14 eksik değer varmış.\n",
    "    Credit_History'de   (614 - 564) 50 eksik değer varmış.\n",
    "    \n",
    "    Aynı zamanda başvuru sahiplerinin yaklaşık %84'ünün bir credit_history'si olduğunu görebiliyoruz.Tabi bunu Nasıl anlıyoruz? Credit_History alanının ortalaması 0.84'tür, işte çıkarımı buradan yapıyoruz.(Unutmayınız, Credit_History, bir kredi geçmişine sahip olanlar için 1, aksi takdirde 0'dır)\n",
    "    \n",
    "Başvuru Sahibi Gelir dağılımı beklenti ile uyumlu görünmektedir. CoapplicantIncome ile aynı\n",
    "Verilerdeki olası bir çarpıklık fikrini, ortalama değeri medyan, yani% 50 rakam ile karşılaştırarak bulabileceğimizi lütfen unutmayın.\n",
    "\n",
    "Sayısal olmayan değerler için (örn. Property_Area, Credit_History vb.), Mantıklı olup olmadıklarını anlamak için frekans dağılımına bakabiliriz. Frekans tablosu aşağıdaki komutla yazdırılabilir:"
   ]
  },
  {
   "cell_type": "code",
   "execution_count": 12,
   "metadata": {},
   "outputs": [
    {
     "data": {
      "text/plain": [
       "Semiurban    233\n",
       "Urban        202\n",
       "Rural        179\n",
       "Name: Property_Area, dtype: int64"
      ]
     },
     "execution_count": 12,
     "metadata": {},
     "output_type": "execute_result"
    }
   ],
   "source": [
    "df['Property_Area'].value_counts()"
   ]
  },
  {
   "cell_type": "markdown",
   "metadata": {},
   "source": [
    "Benzer şekilde, kredi geçmişinin benzersiz değerlerine de bakabiliriz. Dfname ['column_name'] 'in, veri çerçevesinin belirli bir sütununu görmek için temel bir indeksleme tekniği olduğunu unutmayın. Ayrıca sütunların bir listesinide görmek isteyebilirsiniz. Daha fazla bilgi için, yukarıda paylaşılan “Panda'ya 10 Dakika” kaynağına bakın.\n",
    "\n",
    "## Dağılım Analizi\n",
    "\n",
    "### Veri Setimiz içerisindeki bazı sütunların dağılım analizlerini yapalım.\n",
    "Artık temel veri özelliklerine aşina olduğumuz için, çeşitli değişkenlerin dağılımını inceleyebiliriz. Sayısal değişkenlerle başlayalım - yani ApplicantIncome ve LoanAmount\n",
    "\n",
    "Aşağıdaki komutları kullanarak ApplicantIncome histogramını çizerek başlayalım:"
   ]
  },
  {
   "cell_type": "code",
   "execution_count": 48,
   "metadata": {},
   "outputs": [
    {
     "data": {
      "text/plain": [
       "<matplotlib.axes._subplots.AxesSubplot at 0x1a1dccb400>"
      ]
     },
     "execution_count": 48,
     "metadata": {},
     "output_type": "execute_result"
    },
    {
     "data": {
      "image/png": "[encoded data removed]",
      "text/plain": [
       "<matplotlib.figure.Figure at 0x1a1d4dddd8>"
      ]
     },
     "metadata": {},
     "output_type": "display_data"
    }
   ],
   "source": [
    "df['ApplicantIncome'].hist(bins = 50)"
   ]
  },
  {
   "cell_type": "markdown",
   "metadata": {},
   "source": [
    "Burada birkaç aşırı değer olduğunu görüyoruz. Bu, dağılımı açıkça göstermek için 50 çubuğun(histogram) gerekmesinin nedeni de budur.\n",
    "\n",
    "Ardından, dağıtımları anlamak için kutu çizimlerine bakıyoruz. Ücret(ApplicantIncome) değeri boxplot ile çizilebilir:"
   ]
  },
  {
   "cell_type": "code",
   "execution_count": 18,
   "metadata": {},
   "outputs": [
    {
     "data": {
      "text/plain": [
       "<matplotlib.axes._subplots.AxesSubplot at 0x10bbf8908>"
      ]
     },
     "execution_count": 18,
     "metadata": {},
     "output_type": "execute_result"
    },
    {
     "data": {
      "image/png": "[encoded data removed]",
      "text/plain": [
       "<matplotlib.figure.Figure at 0x11134a518>"
      ]
     },
     "metadata": {},
     "output_type": "display_data"
    }
   ],
   "source": [
    "df.boxplot(column = 'ApplicantIncome')"
   ]
  },
  {
   "cell_type": "markdown",
   "metadata": {},
   "source": [
    "Yukarıdaki diyagramdan anlaşıldığı üzere bu, bir çok aykırı/aşırı değerin varlığını doğrular. Bu, toplumdaki gelir eşitsizliğine bağlanabilir. Bunun bir kısmı, farklı eğitim seviyelerine sahip insanlara bakmamızdan kaynaklanabilir. Öncelikle onları Eğitim durumlarına göre ayırtalım:"
   ]
  },
  {
   "cell_type": "code",
   "execution_count": 49,
   "metadata": {},
   "outputs": [
    {
     "data": {
      "text/plain": [
       "<matplotlib.axes._subplots.AxesSubplot at 0x1a1dc40a58>"
      ]
     },
     "execution_count": 49,
     "metadata": {},
     "output_type": "execute_result"
    },
    {
     "data": {
      "image/png": "[encoded data removed]",
      "text/plain": [
       "<matplotlib.figure.Figure at 0x1a1d489ba8>"
      ]
     },
     "metadata": {},
     "output_type": "display_data"
    }
   ],
   "source": [
    "df.boxplot(column = 'ApplicantIncome', by ='Education')"
   ]
  },
  {
   "cell_type": "markdown",
   "metadata": {},
   "source": [
    "Mezun olan ve olmayanların ortalama gelirleri arasında önemli bir farklılık olmadığını görebiliriz. Ancak, mezunların büyük bir bölümü yüksek gelire sahip.\n",
    "\n",
    "Şimdi, aşağıdaki komutu kullanarak LoanAmount'un histogramına ve baxplot'una bakalım:"
   ]
  },
  {
   "cell_type": "code",
   "execution_count": 20,
   "metadata": {},
   "outputs": [
    {
     "data": {
      "text/plain": [
       "<matplotlib.axes._subplots.AxesSubplot at 0x11173cf60>"
      ]
     },
     "execution_count": 20,
     "metadata": {},
     "output_type": "execute_result"
    },
    {
     "data": {
      "image/png": "[encoded data removed]",
      "text/plain": [
       "<matplotlib.figure.Figure at 0x1115f85c0>"
      ]
     },
     "metadata": {},
     "output_type": "display_data"
    }
   ],
   "source": [
    "df['LoanAmount'].hist(bins = 50)"
   ]
  },
  {
   "cell_type": "code",
   "execution_count": 21,
   "metadata": {},
   "outputs": [
    {
     "data": {
      "text/plain": [
       "<matplotlib.axes._subplots.AxesSubplot at 0x11173cdd8>"
      ]
     },
     "execution_count": 21,
     "metadata": {},
     "output_type": "execute_result"
    },
    {
     "data": {
      "image/png": "[encoded data removed]",
      "text/plain": [
       "<matplotlib.figure.Figure at 0x111858390>"
      ]
     },
     "metadata": {},
     "output_type": "display_data"
    }
   ],
   "source": [
    "df.boxplot(column = 'LoanAmount')"
   ]
  },
  {
   "cell_type": "markdown",
   "metadata": {},
   "source": [
    "Yine, bazı aşırı değerler olduğunu görebiliyoruz. Açıkçası, hem ApplicantIncome hem de LoanAmount, bir miktar veri alanı gerektiriyor. LoanAmount, aşırı değer değerleri kadar kayıp ve eksikken, ApplicantIncome'ın daha derin bir anlayış gerektiren birkaç aşırı değeri vardır. Bunu önümüzdeki bölümlerde ele alacağız."
   ]
  },
  {
   "attachments": {
    "image.png": {
     "image/png": "[encoded data removed]"
    }
   },
   "cell_type": "markdown",
   "metadata": {},
   "source": [
    "## Kategorik değişken analizi\n",
    "Artık ApplicantIncome ve LoanIncome için dağılımları biliyoruz, şimdi kategorik değişkenleri daha ayrıntılı olarak anlayalım. Excel stili pivot tablo ve çapraz tablolama kullanacağız. Örneğin, kredi geçmişine dayalı bir kredi alma şansına bakalım. Bu MS Excel'de bir pivot tabloyu kullanarak elde edilebilir:\n",
    "![image.png](attachment:image.png)\n",
    "\n",
    "Not: Burada kredi durumu Evet için 1 ve Hayır için 0 olarak kodlanmıştır. Yani ortalama kredi alma olasılığını temsil eder.\n",
    "\n",
    "Şimdi Python'u kullanarak benzer bir anlayış oluşturmak için gerekli olan adımlara bakacağız. Pandas'da farklı veri manipülasyon tekniklerini anlamak için lütfen [bu makaleye bakınız](https://www.analyticsvidhya.com/blog/2016/01/12-pandas-techniques-python-data-manipulation/)."
   ]
  },
  {
   "cell_type": "code",
   "execution_count": 22,
   "metadata": {},
   "outputs": [
    {
     "name": "stdout",
     "output_type": "stream",
     "text": [
      "Kredi Geçmişi için Frekans Tablosu\n",
      "0.0     89\n",
      "1.0    475\n",
      "Name: Credit_History, dtype: int64\n",
      "\n",
      " Her bir Kredi Geçmişi sınıfı için Kredi Alma Olasılığı\n",
      "                Loan_Status\n",
      "Credit_History             \n",
      "0.0                0.078652\n",
      "1.0                0.795789\n"
     ]
    }
   ],
   "source": [
    "temp1 = df['Credit_History'].value_counts(ascending=True)\n",
    "temp2 = df.pivot_table(values = 'Loan_Status', index = ['Credit_History'], aggfunc = lambda x: x.map({'Y':1, 'N':0}).mean())\n",
    "print (\"Kredi Geçmişi için Frekans Tablosu\")\n",
    "print(temp1)\n",
    "\n",
    "print(\"\\n Her bir Kredi Geçmişi sınıfı için Kredi Alma Olasılığı\")\n",
    "print(temp2)"
   ]
  },
  {
   "cell_type": "markdown",
   "metadata": {},
   "source": [
    "Şimdi MS Excel gibi benzer bir pivot_table aldığımızı gözlemleyebiliriz. Bu, aşağıdaki kodla birlikte “matplotlib” kütüphanesi kullanılarak bir çubuk grafik olarak çizilebilir:"
   ]
  },
  {
   "cell_type": "code",
   "execution_count": 50,
   "metadata": {},
   "outputs": [
    {
     "data": {
      "text/plain": [
       "Text(0.5,1,'Kredi Geçmişine Göre Kredi Çıkma olasılığı')"
      ]
     },
     "execution_count": 50,
     "metadata": {},
     "output_type": "execute_result"
    },
    {
     "data": {
      "image/png": "[encoded data removed]",
      "text/plain": [
       "<matplotlib.figure.Figure at 0x111be3eb8>"
      ]
     },
     "metadata": {},
     "output_type": "display_data"
    },
    {
     "data": {
      "image/png": "[encoded data removed]",
      "text/plain": [
       "<matplotlib.figure.Figure at 0x111cd27f0>"
      ]
     },
     "metadata": {},
     "output_type": "display_data"
    }
   ],
   "source": [
    "fig = plt.figure(figsize=(12,6))\n",
    "ax1 = fig.add_subplot(121)\n",
    "ax1.set_xlabel('Kredi Geçmişi')\n",
    "ax1.set_ylabel('Başvuru Sayısı')\n",
    "ax1.set_title(\"Kredi Geçmişine göre başvurular\")\n",
    "temp1.plot(kind = 'bar')\n",
    "\n",
    "ax2 = fig.add_subplot(122)\n",
    "temp2.plot(kind = 'bar')\n",
    "ax2.set_xlabel('Kredi Geçmişi')\n",
    "ax2.set_ylabel('Kredi Alma Olasılığı')\n",
    "ax2.set_title(\"Kredi Geçmişine Göre Kredi Çıkma olasılığı\")"
   ]
  },
  {
   "cell_type": "markdown",
   "metadata": {},
   "source": [
    "Bu, başvuru sahibinin geçerli bir kredi geçmişine sahip olması durumunda kredi alma şansının sekiz kat daha fazla olduğunu göstermektedir. Benzer grafikleri Married, Self-Employed, Property_Area, vb.'de çizdirebiliriz.\n",
    "\n",
    "Alternatif olarak, bu iki grafiği yığılmış bir grafikte birleştirerek görselleştirilebilir:"
   ]
  },
  {
   "cell_type": "code",
   "execution_count": 24,
   "metadata": {},
   "outputs": [
    {
     "data": {
      "text/plain": [
       "<matplotlib.axes._subplots.AxesSubplot at 0x111b92080>"
      ]
     },
     "execution_count": 24,
     "metadata": {},
     "output_type": "execute_result"
    },
    {
     "data": {
      "image/png": "[encoded data removed]",
      "text/plain": [
       "<matplotlib.figure.Figure at 0x111710d30>"
      ]
     },
     "metadata": {},
     "output_type": "display_data"
    }
   ],
   "source": [
    "temp3 = pd.crosstab(df['Credit_History'], df['Loan_Status'])\n",
    "temp3.plot(kind ='bar', stacked = True, color = ['red', 'blue'], grid = False)"
   ]
  },
  {
   "cell_type": "markdown",
   "metadata": {},
   "source": [
    "Eğer daha önce farketmediyseniz, burada iki tane temel sınıflandırma algoritması yarattık, biri kredi geçmişine dayalı, diğeri ise 2 kategorik değişkene (kredi geçmişi ve cinsiyet).\n",
    "\n",
    "Python'da Pandas'ı kullanarak keşif analizini nasıl yapabileceğimizi gördük. Umarım pandalara (hayvana) olan sevginiz şimdi daha da artacaktır - yardım miktarı göz önüne alındığında, kütüphane veri setleri analiz edebilir.\n",
    "\n",
    "Daha sonra, ApplicationantIncome ve LoanStatus değişkenlerini daha ayrıntılı bir şekilde inceleyelim, veri modellemesi yapalım ve çeşitli modelleme tekniklerini uygulamak için bir veri seti oluşturalım. Başka bir veri seti ve problemi anlamanızı ve daha fazla okumadan önce bağımsız bir örnek yapmanızı tavsiye ederim.\n",
    "\n",
    "## 4. Python'da Veri Paylaşımı: Pandaları Kullanma\n",
    "\n",
    "Koşmaya başlamak için mutlaka ayakkabı giymelisiniz.\n",
    "\n",
    "### Veri Munging(Maşası) - İhtiyacın tekrarı\n",
    "Verileri araştırırken, veri setinde, iyi bir modele hazır olmadan önce çözülmesi gereken bir kaç problem bulduk. Bu alıştırma tipik olarak “Data Munging” olarak adlandırılır. İşte, şu anda bildiğimiz sorunlar:\n",
    "\n",
    "  . Bazı değişkenlerde eksik değerler var. Bu değerleri eksik değerlerin miktarına ve değişkenlerin beklenen önemine bağlı olarak akıllıca tahmin etmeliyiz.\n",
    "  . Dağılımlara bakarken, ApplicantIncome ve LoanAmount'un her iki uçta da aşırı değerler içerdiğini gördük. Her ne kadar sezgisel anlamda olsalar da uygun şekilde bu aykırılıklar  giderilmelidirler.\n",
    "  . Sayısal alanlardaki bu sorunlara ek olarak, herhangi bir yararlı bilgi içeriyorsa, Cinsiyet, Property_Area, Evli, Eğitim ve Bağımlılar gibi sayısal olmayan alanlara da bakmalıyız.\n",
    "\n",
    "Pandas için yeniyseniz, devam  etmeden önce [bu makaleyi](https://www.analyticsvidhya.com/blog/2016/01/12-pandas-techniques-python-data-manipulation/) okumanızı tavsiye ederim. Veri manipülasyonunun bazı yararlı tekniklerini detaylı bir şekilde görebilirsiniz.\n",
    "\n",
    "#### Veri kümesindeki eksik değerleri kontrol ediyoruz.\n",
    "\n",
    "Tüm değişkenlerdeki eksik değerlere bakalım çünkü modellerin çoğu eksik veri ile çalışmazlar ve hatta olsalar bile, onları olumsuz olarak etkilemektedirler. Yani, veri kümesindeki null / NaN sayısını kontrol edelim."
   ]
  },
  {
   "cell_type": "code",
   "execution_count": 52,
   "metadata": {},
   "outputs": [
    {
     "data": {
      "text/plain": [
       "Loan_ID               0\n",
       "Gender               13\n",
       "Married               3\n",
       "Dependents           15\n",
       "Education             0\n",
       "Self_Employed        32\n",
       "ApplicantIncome       0\n",
       "CoapplicantIncome     0\n",
       "LoanAmount           22\n",
       "Loan_Amount_Term     14\n",
       "Credit_History       50\n",
       "Property_Area         0\n",
       "Loan_Status           0\n",
       "dtype: int64"
      ]
     },
     "execution_count": 52,
     "metadata": {},
     "output_type": "execute_result"
    }
   ],
   "source": [
    "df.apply(lambda x: sum(x.isnull()), axis = 0)"
   ]
  },
  {
   "cell_type": "markdown",
   "metadata": {},
   "source": [
    "Bu komut, değer null ise, isnull () 1 değerini döndürdüğünden, her sütundaki eksik değerlerin sayısını bize bildirmektedir.\n",
    "\n",
    "Her ne kadar eksik değerler sayı olarak çok fazla olmasa da, eksik değerin olduğu birçok değişken mevcut ve bunlardan her biri tahmin edilmeli ve verilere eklenmelidir. [Bu makale](https://www.analyticsvidhya.com/blog/2016/01/guide-data-exploration/) aracılığıyla farklı imputation teknikleri hakkında ayrıntılı bir görüş edinebilirsiniz.\n",
    "\n",
    "    Not: Eksik değerlerin her zaman NaN olmadığına dikkat edin. Örneğin, Loan_Amount_Term değer 0 ise, mantıklı mıdır yoksa eksik olduğunu düşünür müsün? Bu yüzden pratik olmayan değerleri kontrol etmek veri analizi için faydalıdır.\n",
    "\n",
    "### LoanAmount'da eksik değerler nasıl doldurulur?\n",
    "\n",
    "Kredi miktarının eksik değerlerini doldurmanın sayısız yolu vardır - en kolay olan, ortalamaya göre değiştirilir, ki bu, aşağıdaki kodu takip ederek yapılabilir:"
   ]
  },
  {
   "cell_type": "code",
   "execution_count": 26,
   "metadata": {},
   "outputs": [],
   "source": [
    "df['LoanAmount'].fillna(df['LoanAmount'].mean(), inplace = True)"
   ]
  },
  {
   "cell_type": "markdown",
   "metadata": {},
   "source": [
    "Diğer bir işlem, kredi miktarını diğer değişkenler temelinde tahmin etmek için denetlenen bir öğrenme modeli oluşturmak ve daha sonra  öngörmek için diğer değişkenlerle birlikte yaşı'da  kullanmak faydalı olabilir.\n",
    "\n",
    "Şu anki amaç, veri paylaşımındaki adımları ortaya koymak olduğu için, bu 2 aşırı uç arasında bir yer tutan bir yaklaşımı tercih ediyoruz. Önemli bir hipotez, bir kişinin eğitimli veya serbest meslek sahibi olmasının kredi tutarı hakkında iyi bir tahminde bulunabilidir."
   ]
  },
  {
   "cell_type": "code",
   "execution_count": 27,
   "metadata": {},
   "outputs": [
    {
     "data": {
      "text/plain": [
       "Loan_ID               0\n",
       "Gender               13\n",
       "Married               3\n",
       "Dependents           15\n",
       "Education             0\n",
       "Self_Employed        32\n",
       "ApplicantIncome       0\n",
       "CoapplicantIncome     0\n",
       "LoanAmount            0\n",
       "Loan_Amount_Term     14\n",
       "Credit_History       50\n",
       "Property_Area         0\n",
       "Loan_Status           0\n",
       "dtype: int64"
      ]
     },
     "execution_count": 27,
     "metadata": {},
     "output_type": "execute_result"
    }
   ],
   "source": [
    "df.apply(lambda x: sum(x.isnull()), axis = 0)"
   ]
  },
  {
   "cell_type": "markdown",
   "metadata": {},
   "source": [
    "Daha önce söylediğimiz gibi, Self_Employed'ın bazı eksik değerleri var. Frekans tablosuna bakalım:"
   ]
  },
  {
   "cell_type": "code",
   "execution_count": 28,
   "metadata": {},
   "outputs": [
    {
     "data": {
      "text/plain": [
       "No     500\n",
       "Yes     82\n",
       "Name: Self_Employed, dtype: int64"
      ]
     },
     "execution_count": 28,
     "metadata": {},
     "output_type": "execute_result"
    }
   ],
   "source": [
    "df['Self_Employed'].value_counts()"
   ]
  },
  {
   "cell_type": "markdown",
   "metadata": {},
   "source": [
    "% 86'lık değerler “Hayır” olduğu için(500/582 =0,86), başarı oranının yüksek olması nedeniyle eksik değerleri “Hayır” olarak işaretlemek daha güvenlidir. Bu, işlem aşağıdaki kod  ile yapılabilir:"
   ]
  },
  {
   "cell_type": "code",
   "execution_count": 29,
   "metadata": {},
   "outputs": [],
   "source": [
    "df['Self_Employed'].fillna('No', inplace = True)"
   ]
  },
  {
   "cell_type": "code",
   "execution_count": 30,
   "metadata": {},
   "outputs": [
    {
     "data": {
      "text/plain": [
       "No     532\n",
       "Yes     82\n",
       "Name: Self_Employed, dtype: int64"
      ]
     },
     "execution_count": 30,
     "metadata": {},
     "output_type": "execute_result"
    }
   ],
   "source": [
    "df['Self_Employed'].value_counts()"
   ]
  },
  {
   "cell_type": "markdown",
   "metadata": {},
   "source": [
    "Şimdi, 'Self_Employed' ve 'Education' özelliklerinin tüm benzersiz değerleri için medyan değerleri sağlayan bir Pivot tablo oluşturacağız. Ardından, bu hücrelerin değerlerini döndüren ve kredi tutarının eksik değerlerini doldurmak için uygulayan bir işlev tanımlayacağız:"
   ]
  },
  {
   "cell_type": "code",
   "execution_count": 71,
   "metadata": {},
   "outputs": [],
   "source": [
    "table = df.pivot_table(values='LoanAmount', index='Self_Employed' ,columns='Education', aggfunc=np.median)\n",
    "# Define function to return value of this pivot_table\n",
    "def fage(x):\n",
    " return table.loc[x['Self_Employed'],x['Education']]\n",
    "# Replace missing values\n",
    "#df.groupby(['LoanAmount'].fillna(df[df['LoanAmount'].isnull()].apply(fage, axis=1), inplace=True))\n",
    "df['LoanAmount'] = df['LoanAmount'].fillna((df['LoanAmount'].mean()))\n",
    "#df['your_column'] = df['your_column'].fillna((df['your_column'].mean()))"
   ]
  },
  {
   "cell_type": "code",
   "execution_count": 72,
   "metadata": {},
   "outputs": [],
   "source": [
    "df['Loan_Status'].fillna('No',inplace=True)\n",
    "df['Credit_History'].fillna(0,inplace=True) "
   ]
  },
  {
   "cell_type": "code",
   "execution_count": 73,
   "metadata": {},
   "outputs": [
    {
     "data": {
      "text/plain": [
       "<matplotlib.axes._subplots.AxesSubplot at 0x1a1e81a668>"
      ]
     },
     "execution_count": 73,
     "metadata": {},
     "output_type": "execute_result"
    },
    {
     "data": {
      "image/png": "[encoded data removed]",
      "text/plain": [
       "<matplotlib.figure.Figure at 0x1a1e80ab38>"
      ]
     },
     "metadata": {},
     "output_type": "display_data"
    }
   ],
   "source": [
    "df['LoanAmount_log'] = np.log(df['LoanAmount'])\n",
    "df['LoanAmount_log'].hist(bins=20)"
   ]
  },
  {
   "cell_type": "markdown",
   "metadata": {},
   "source": [
    "Şimdi dağılım normale çok daha yakın görünüyor ve aşırı değerlerin etkisi önemli ölçüde azaldı.\n",
    "\n",
    "Şimdi sıra ApplicantIncome (Başvurana) geliyor. Bir tahmin, bazı başvuru sahiplerinin daha düşük bir gelire sahip olmaları, aynı zamanda güçlü bir ortak başvuru(coApplicant) sahibinin olması olabilir. Bu nedenle, hem gelirleri toplam gelir olarak birleştirmek hem de bunun bir günlük dönüşümünü almak iyi bir fikir olabilir."
   ]
  },
  {
   "cell_type": "code",
   "execution_count": 74,
   "metadata": {},
   "outputs": [
    {
     "data": {
      "text/plain": [
       "<matplotlib.axes._subplots.AxesSubplot at 0x1a1e730198>"
      ]
     },
     "execution_count": 74,
     "metadata": {},
     "output_type": "execute_result"
    },
    {
     "data": {
      "image/png": "[encoded data removed]",
      "text/plain": [
       "<matplotlib.figure.Figure at 0x1a1e730828>"
      ]
     },
     "metadata": {},
     "output_type": "display_data"
    }
   ],
   "source": [
    "df['TotalIncome'] = df['ApplicantIncome'] + df['CoapplicantIncome']\n",
    "df['TotalIncome_log'] = np.log(df['TotalIncome'])\n",
    "df['LoanAmount_log'].hist(bins = 20)"
   ]
  },
  {
   "cell_type": "markdown",
   "metadata": {},
   "source": [
    "Şimdi dağıtımın eskisinden çok daha iyi olduğunu görüyoruz. Cinsiyet, Evli, Bağımlılar(Dependents), Loan_Amount_Term, Credit_History  değişkenleri için eksik değerlerin düzenlenmesini size bırakacağım. Ayrıca, verilerden elde edilebilecek olası ek bilgileri düşünmenizi öneririm. Örneğin, LoanAmount / TotalIncome için bir sütun oluşturmak, başvuru sahibinin kredisini geri ödemek için ne kadar uygun olduğuna dair bir fikir verdiği için mantıklı olabilir.\n",
    "\n",
    "Daha sonra, tahmin modellerini yapmaya başlacağız."
   ]
  },
  {
   "cell_type": "markdown",
   "metadata": {},
   "source": [
    "## 5. Python'da Öngörülü Bir Model Oluşturma\n",
    "Daha sonra, verileri modelleme için verilerimizi kullanılabilir hale getirdik, şimdi veri setimizde bir öngörü modeli oluşturmak için python koduna bakalım. Skicit-Learn (sklearn) bu amaçla Python'daki en yaygın kullanılan kütüphanedir ve biz bu kütüphaneden faydalanacağız. Bu [linkte](https://www.analyticsvidhya.com/blog/2015/01/scikit-learn-python-machine-learning-tool/) ile sklearn bilgilerinizi yenilemenizi tavsiye ederim .\n",
    "\n",
    "Sklearn, için tüm girdilerin sayısal olmasını gerektirdiğinden dolayı, kategorik değişkenleride kodlayarak tüm kategorik değişkenlerimizi sayısal hale getirmeliyiz. Bu, aşağıdaki kodu kullanarak yapılabilir:"
   ]
  },
  {
   "cell_type": "code",
   "execution_count": 81,
   "metadata": {},
   "outputs": [
    {
     "data": {
      "text/plain": [
       "Loan_ID               object\n",
       "Gender                 int64\n",
       "Married                int64\n",
       "Dependents             int64\n",
       "Education              int64\n",
       "Self_Employed          int64\n",
       "ApplicantIncome        int64\n",
       "CoapplicantIncome    float64\n",
       "LoanAmount           float64\n",
       "Loan_Amount_Term     float64\n",
       "Credit_History       float64\n",
       "Property_Area          int64\n",
       "Loan_Status            int64\n",
       "LoanAmount_log       float64\n",
       "TotalIncome          float64\n",
       "TotalIncome_log      float64\n",
       "dtype: object"
      ]
     },
     "execution_count": 81,
     "metadata": {},
     "output_type": "execute_result"
    }
   ],
   "source": [
    "from sklearn.preprocessing import LabelEncoder\n",
    "var_mod = ['Gender','Married','Dependents','Education','Self_Employed','Property_Area','Loan_Status']\n",
    "le = LabelEncoder()\n",
    "for i in var_mod:\n",
    "    df[i] = le.fit_transform(df[i].astype(str))\n",
    "df.dtypes "
   ]
  },
  {
   "cell_type": "markdown",
   "metadata": {},
   "source": [
    "Ardından, gerekli modülleri(kütüphaneleri) alacağız. Daha sonra, bir modeli girdi olarak alan ve Doğruluk ve Çapraz Doğrulama puanlarını belirleyen genel bir sınıflandırma fonksiyonu tanımlayacağız. Bu çalışma veri bilimiinze giriş makalesi olduğundan, kodlamanın ayrıntılarına girmeyeceğiz. R ve Python kodları ile algoritmaların ayrıntılarını öğrenmek için lütfen [bu makaleye](https://www.analyticsvidhya.com/blog/2017/09/common-machine-learning-algorithms/) bakınız . Ayrıca, [bu makalede çapraz doğrulama](https://www.analyticsvidhya.com/blog/2018/05/improve-model-performance-cross-validation-in-python-r/) konusunda bilgilerinizi yenilemek iyi olacaktır çünkü bu, güç performansının çok önemli bir ölçüsüdür."
   ]
  },
  {
   "cell_type": "code",
   "execution_count": 82,
   "metadata": {},
   "outputs": [],
   "source": [
    "#Scikit Learn Kütüphanelerini ekliyoruz\n",
    "from sklearn.linear_model import LogisticRegression\n",
    "from sklearn.cross_validation import KFold   # Çapraz doğrulama için K-fold\n",
    "from sklearn.ensemble import RandomForestClassifier\n",
    "from sklearn.tree import DecisionTreeClassifier, export_graphviz\n",
    "from sklearn import metrics\n",
    "\n",
    "#Model Sınıflandırması ve modele erişim için bir değişken tanımlıyoruz\n",
    "def classification_model(model, data, predictors, outcome):\n",
    "  #Modeli Eğitiyoruz:\n",
    "  model.fit(data[predictors],data[outcome])\n",
    "  \n",
    "  #Eğitim Verileri üzerinde Tahminler yapıyoruz\n",
    "  predictions = model.predict(data[predictors])\n",
    "  \n",
    "  #Doğruluk oranını Yazdırıyoruz\n",
    "  accuracy = metrics.accuracy_score(predictions,data[outcome])\n",
    "  print (\"Doğruluk oranı : %s\" % \"{0:.3%}\".format(accuracy))\n",
    "\n",
    "  #Çapraz doğrulama ile K-Fold Performansını gözlemliyoruz \n",
    "  kf = KFold(data.shape[0], n_folds=5)\n",
    "  error = []\n",
    "  for train, test in kf:\n",
    "    # Eğitim verilerini filtreliyoruz\n",
    "    train_predictors = (data[predictors].iloc[train,:])\n",
    "    \n",
    "    # Eğitim algoritmasını kullanarak modeli eğitiyoruz\n",
    "    train_target = data[outcome].iloc[train]\n",
    "    \n",
    "    #Tahminleri ve Hedef Değişkenleri kullanarak modelimizi eğitiyoruz\n",
    "    model.fit(train_predictors, train_target)\n",
    "    \n",
    "    #Çapraz-Doğrulama değerlerini kayıt ediyoruz\n",
    "    error.append(model.score(data[predictors].iloc[test,:], data[outcome].iloc[test]))\n",
    " \n",
    "  print (\"Çapraz doğrulama Puanı : %s\" % \"{0:.3%}\".format(np.mean(error)))\n",
    "\n",
    "  #Modeli tekrar eğitiyoruz\n",
    "  model.fit(data[predictors],data[outcome]) "
   ]
  },
  {
   "cell_type": "code",
   "execution_count": 83,
   "metadata": {},
   "outputs": [
    {
     "name": "stdout",
     "output_type": "stream",
     "text": [
      "Accuracy : 77.036%\n",
      "Çapraz doğrulama Puanı : 77.041%\n"
     ]
    }
   ],
   "source": [
    "df['Loan_Status'].fillna('No',inplace=True)\n",
    "df['Credit_History'].fillna(0,inplace=True) \n",
    "\n",
    "outcome_var = 'Loan_Status'\n",
    "model = LogisticRegression()\n",
    "predictor_var = ['Credit_History']\n",
    "\n",
    "classification_model(model, df, predictor_var,outcome_var)"
   ]
  },
  {
   "cell_type": "markdown",
   "metadata": {},
   "source": [
    "Evet sonuçlardan görüldüğü üzere modelimizin doğruluk oranı %77,036 olarak görüntülüyoruz."
   ]
  },
  {
   "cell_type": "markdown",
   "metadata": {},
   "source": [
    "## Lojistik regresyon\n",
    "İlk Lojistik Regresyon modelimizi yapalım. Tüm değişkenleri modele dahil etmenin bir yolu olacaktır, ancak bu aşırı öğrenmeye (overfitting) neden olabilir (henüz bu terminolojinin farkında değilseniz endişelenmeyin). Basit bir ifadeyle, tüm değişkenlerin alınması modele, verilere özgü karmaşık ilişkileri anlamada yol açabilir ve iyi bir şekilde modeli genelleştiremez. [Lojistik Regresyon](https://www.analyticsvidhya.com/blog/2015/11/beginners-guide-on-logistic-regression-in-r/) hakkında daha fazla bilgi edinebilirsiniz.\n",
    "\n",
    "İşlemlere başlamak için kolayca sezgisel bir hipotez yapabiliriz. Bir kredi alma şansı aşağıdakiler için daha yüksek olacaktır:\n",
    "\n",
    "    1.Kredi geçmişi olan adaylar (bunu keşifte gözlemlediğimizi hatırlıyor musunuz?)\n",
    "    2.Yüksek başvuru sahibi ve ortak başvuru sahibi olan adaylar\n",
    "    3.Yüksek eğitim seviyesi olan adaylar\n",
    "    4.Büyüme perspektifli kentsel alanlardaki özellikler\n",
    "\n",
    "Öyleyse ilk modelimizi 'Credit_History' ile yapalım."
   ]
  },
  {
   "cell_type": "code",
   "execution_count": 84,
   "metadata": {},
   "outputs": [
    {
     "name": "stdout",
     "output_type": "stream",
     "text": [
      "Accuracy : 77.036%\n",
      "Çapraz doğrulama Puanı : 77.041%\n"
     ]
    }
   ],
   "source": [
    "outcome_var = 'Loan_Status'\n",
    "model = LogisticRegression()\n",
    "predictor_var = ['Credit_History']\n",
    "classification_model(model, df,predictor_var,outcome_var)"
   ]
  },
  {
   "cell_type": "code",
   "execution_count": 85,
   "metadata": {},
   "outputs": [
    {
     "name": "stdout",
     "output_type": "stream",
     "text": [
      "Accuracy : 77.199%\n",
      "Çapraz doğrulama Puanı : 76.553%\n"
     ]
    }
   ],
   "source": [
    "# Modelimizi farklı kombinasyonlar ile deneyebiliriz.\n",
    "model = DecisionTreeClassifier()\n",
    "predictor_var = ['Credit_History', 'Gender', 'Married', 'Education']\n",
    "classification_model(model, df, predictor_var, outcome_var)"
   ]
  },
  {
   "cell_type": "code",
   "execution_count": 39,
   "metadata": {},
   "outputs": [
    {
     "name": "stdout",
     "output_type": "stream",
     "text": [
      "Accuracy : 79.642%\n",
      "Cross-Validation Score : 75.406%\n"
     ]
    }
   ],
   "source": [
    "model =RandomForestClassifier(n_estimators = 100)\n",
    "predictor_var = ['Gender', 'Married', 'Dependents', 'Credit_History', 'Education', 'Self_Employed']\n",
    "classification_model(model, df, predictor_var, outcome_var)"
   ]
  },
  {
   "cell_type": "markdown",
   "metadata": {},
   "source": [
    "Genel olarak değişkenlerin eklenmesi ile doğruluğun artmasını bekliyoruz. Doğruluk ve çapraz doğrulama puanı, daha az önemli değişkenler tarafından etkilenmemektedir. Credit_History, bizim ana değişkenimiz ve modele hakim durumda. bunu nasıl anlıyoruz, aşağıdaki kod Credit_History değişkenini içermiyor, görüldüğü üzere doğruluk oranı fark edilir derecede düşüyor."
   ]
  },
  {
   "cell_type": "code",
   "execution_count": 87,
   "metadata": {},
   "outputs": [
    {
     "name": "stdout",
     "output_type": "stream",
     "text": [
      "Accuracy : 68.893%\n",
      "Çapraz doğrulama Puanı : 68.241%\n"
     ]
    }
   ],
   "source": [
    "model = DecisionTreeClassifier()\n",
    "predictor_var = ['Gender', 'Married', 'Education']\n",
    "classification_model(model, df, predictor_var, outcome_var)"
   ]
  },
  {
   "cell_type": "markdown",
   "metadata": {},
   "source": [
    "    Şimdi iki seçeneğimiz var:\n",
    "    1.Özellik Mühendisliği: Yeni bilgiler keşfedip ve bunları tahmin etmeye çalışın. Bunu sizin yaratıcılığınıza bırakacağım.\n",
    "    2.Daha iyi modelleme teknikleri. Şimdi bunu keşfedelim."
   ]
  },
  {
   "cell_type": "code",
   "execution_count": 88,
   "metadata": {},
   "outputs": [
    {
     "name": "stdout",
     "output_type": "stream",
     "text": [
      "Education    0.407110\n",
      "Married      0.369348\n",
      "Gender       0.223542\n",
      "dtype: float64\n"
     ]
    }
   ],
   "source": [
    "#Özelliklerin önemlerini anlamak için bir seri oluşturuyoruz\n",
    "ozellik_onemi = pd.Series(model.feature_importances_, index=predictor_var).sort_values(ascending=False)\n",
    "print (ozellik_onemi)"
   ]
  },
  {
   "cell_type": "markdown",
   "metadata": {},
   "source": [
    "### Karar ağacı\n",
    "Karar ağacı, bir tahmin modeli yapmak için başka bir yöntemdir. Lojistik regresyon modelinden daha yüksek doğruluk sağladığı bilinmektedir. Karar Ağaçları hakkında daha fazla [bilgi](https://www.analyticsvidhya.com/blog/2016/04/complete-tutorial-tree-based-modeling-scratch-in-python/) edinebilirsiniz."
   ]
  },
  {
   "cell_type": "code",
   "execution_count": 89,
   "metadata": {},
   "outputs": [
    {
     "name": "stdout",
     "output_type": "stream",
     "text": [
      "Accuracy : 77.199%\n",
      "Çapraz doğrulama Puanı : 76.553%\n"
     ]
    }
   ],
   "source": [
    "model = DecisionTreeClassifier()\n",
    "predictor_var = ['Credit_History','Gender','Married','Education']\n",
    "classification_model(model, df,predictor_var,outcome_var)"
   ]
  },
  {
   "cell_type": "markdown",
   "metadata": {},
   "source": [
    "Burada, kategorik değişkenlere dayanan modelin, Kredi geçmişi kategorik değişkenler üzerinde hakim olduğu için bir etkisi olamaz. Birkaç sayısal değişken deneyelim:"
   ]
  },
  {
   "cell_type": "code",
   "execution_count": 91,
   "metadata": {},
   "outputs": [
    {
     "name": "stdout",
     "output_type": "stream",
     "text": [
      "Accuracy : 85.668%\n",
      "Çapraz doğrulama Puanı : 64.658%\n"
     ]
    }
   ],
   "source": [
    "#Değişkenleri farklı kombinasyonlarda deneyebiliriz:\n",
    "predictor_var = ['Credit_History','LoanAmount_log']\n",
    "classification_model(model, df,predictor_var,outcome_var)"
   ]
  },
  {
   "cell_type": "markdown",
   "metadata": {},
   "source": [
    "Burada, değişkenlerin eklenmesine rağmen doğruluk  artarken, çapraz doğrulama hatasının azaldığını gözlemledik. Bu, verilere aşırı uyumun(over-fitting)bir sonucudur. Daha da karmaşık bir algoritma deneyelim ve yardımcı olup olmadığını görelim:"
   ]
  },
  {
   "cell_type": "code",
   "execution_count": 92,
   "metadata": {},
   "outputs": [
    {
     "name": "stdout",
     "output_type": "stream",
     "text": [
      "Accuracy : 93.811%\n",
      "Çapraz doğrulama Puanı : 65.150%\n"
     ]
    }
   ],
   "source": [
    "predictor_var = ['Credit_History', 'LoanAmount_log', 'Gender', 'Self_Employed', 'Education']\n",
    "classification_model(model, df, predictor_var, outcome_var)"
   ]
  },
  {
   "cell_type": "markdown",
   "metadata": {},
   "source": [
    "### Rastgele Orman\n",
    "Rastgele orman, sınıflandırma problemini çözmek için başka bir algoritmadır. [Rastgele Orman](https://www.analyticsvidhya.com/blog/2016/04/complete-tutorial-tree-based-modeling-scratch-in-python/) hakkında daha fazla bilgi edinebilirsiniz.\n",
    "\n",
    "Rastgele Orman'ın avantajı, tüm özellikleri ile çalışmasını sağlayabilmemiz ve özellikleri seçmek için kullanılabilecek bir özellik önem matrisi döndürmesidir."
   ]
  },
  {
   "cell_type": "code",
   "execution_count": 99,
   "metadata": {},
   "outputs": [
    {
     "name": "stdout",
     "output_type": "stream",
     "text": [
      "Accuracy : 100.000%\n",
      "Çapraz doğrulama Puanı : 73.784%\n"
     ]
    }
   ],
   "source": [
    "model = RandomForestClassifier(n_estimators =100)\n",
    "predictor_var = ['Credit_History', 'Dependents', 'Gender', 'Education', 'Self_Employed', 'Married', 'Property_Area',\n",
    "                 'LoanAmount_log', 'TotalIncome_log', 'Dependents']\n",
    "classification_model(model, df, predictor_var, outcome_var)"
   ]
  },
  {
   "cell_type": "markdown",
   "metadata": {},
   "source": [
    "Burada, eğitim seti için doğruluğun %100 olduğunu görüyoruz. Bu, aşırı-donatımın(Over-Fitting) en büyük örneğidir ve iki şekilde çözülebilir:\n",
    "\n",
    "    1.Tahmin edicilerin sayısını azaltmak\n",
    "    2.Model parametrelerini ayarlama\n",
    "İkisini de deneyelim. Öncelikle, en önemli özellikleri alacağımız özellik matrisini görüyoruz."
   ]
  },
  {
   "cell_type": "code",
   "execution_count": 100,
   "metadata": {},
   "outputs": [
    {
     "name": "stdout",
     "output_type": "stream",
     "text": [
      "TotalIncome_log    0.296519\n",
      "LoanAmount_log     0.254121\n",
      "Credit_History     0.176675\n",
      "Property_Area      0.060114\n",
      "Dependents         0.039591\n",
      "Dependents         0.038853\n",
      "Gender             0.035568\n",
      "Self_Employed      0.035062\n",
      "Education          0.032197\n",
      "Married            0.031299\n",
      "dtype: float64\n"
     ]
    }
   ],
   "source": [
    "#Özellik önemlerini listeleyecek bir seri oluşturuyoruz\n",
    "ozellik_onemi = pd.Series(model.feature_importances_, index=predictor_var).sort_values(ascending=False)\n",
    "print(ozellik_onemi)"
   ]
  },
  {
   "cell_type": "markdown",
   "metadata": {},
   "source": [
    "Şimdi yukarıdaki özellik sıralamasından yola çıkarak modelimizi ilk 5 özelliğe göre oluşturuyoruz."
   ]
  },
  {
   "cell_type": "code",
   "execution_count": 101,
   "metadata": {},
   "outputs": [
    {
     "name": "stdout",
     "output_type": "stream",
     "text": [
      "Accuracy : 79.316%\n",
      "Çapraz doğrulama Puanı : 75.246%\n"
     ]
    }
   ],
   "source": [
    "model = RandomForestClassifier(n_estimators =25, min_samples_split = 25, max_depth =7, max_features = 1)\n",
    "predictor_var = ['TotalIncome_log','LoanAmount_log','Credit_History', 'Property_Area','Dependents', 'Gender']\n",
    "classification_model(model, df, predictor_var, outcome_var)"
   ]
  },
  {
   "cell_type": "markdown",
   "metadata": {},
   "source": [
    "Doğruluk oranının düşmesine rağmen, çapraz doğrulama puanını modelin genelleştirici olduğunu göstererek iyileştiğine dikkat edin. Rasgele orman modellerinin tam olarak tekrar edilemeyeceğini unutmayın. Farklı çalışmalar rastlantısallık nedeniyle ufak değişikliklere yol açacaktır. Ancak çıktı, belirli değerlerde kalmalıdır.\n",
    "\n",
    "Rasgele ormandaki bazı temel parametreler ayarlandıktan sonra bile, orijinal lojistik regresyon modelinden sadece biraz daha iyi bir çapraz doğrulama doğruluğuna ulaştık. Bu alıştırma bize çok ilginç ve benzersiz bir öğrenme sunuyor:\n",
    "\n",
    "    1.Daha sofistike bir model kullanmak daha iyi sonuçlar vermez.\n",
    "    2.Temel kavramları anlamadan kara kutu olarak karmaşık modelleme teknikleri kullanmaktan kaçının. Bunu yapmak, aşırı takılma eğilimini artırarak, modellerinizi daha az yorumlanabilir hale getirebilir.\n",
    "    3.Özellik Mühendisliği başarının anahtarıdır. Herkes bir Xgboost modelini kullanabilir, ancak gerçek sanat ve yaratıcılık, modelinize daha iyi uyacak şekilde özelliklerinizi geliştirmede yatar."
   ]
  },
  {
   "cell_type": "markdown",
   "metadata": {},
   "source": [
    "## Evet  bu eğitim yolculuğumuzun sonunda bazı önemli notları paylaşmak istiyorum;\n",
    "\n",
    "Bu eğitimin Python'da veri bilimi ile başladığınızda verimliliğinizi en üst düzeye çıkarmanıza yardımcı olacağını umuyorum. Bunun sadece temel veri analizi yöntemleri hakkında bir fikir verğini düşünüyorum, aynı zamanda bugün mevcut olan daha gelişmiş tekniklerin nasıl uygulanabileceğini de gösterdi.\n",
    "\n",
    "Python  gerçekten harika bir araç ve veri bilimcileri arasında giderek popülerleşen bir dil. Nedeni, öğrenmesi kolay, Spark ve Hadoop gibi diğer veri tabanları ve araçlarla iyi entegre oluyor(Bu durumu deneyimlemiş değilim). Çoğunlukla, büyük bir hesaplama yoğunluğuna sahiptir ve güçlü veri analitiği kütüphanelerine sahiptir.\n",
    "\n",
    "Bu nedenle, herhangi bir veri bilimi projesinin tüm yaşam döngüsünü gerçekleştirmek için Python'u öğrenin. Okuma, analiz, görselleştirme ve nihayetinde öngörülerde bulunmayı içerir.\n",
    "\n",
    "Bu yazının orjinaline ekteki [link](https://www.analyticsvidhya.com/blog/2016/01/complete-tutorial-learn-data-science-python-scratch-2/)'ten ulaşabilirsiniz."
   ]
  }
 ],
 "metadata": {
  "kernelspec": {
   "display_name": "Python 3",
   "language": "python",
   "name": "python3"
  },
  "language_info": {
   "codemirror_mode": {
    "name": "ipython",
    "version": 3
   },
   "file_extension": ".py",
   "mimetype": "text/x-python",
   "name": "python",
   "nbconvert_exporter": "python",
   "pygments_lexer": "ipython3",
   "version": "3.6.4"
  }
 },
 "nbformat": 4,
 "nbformat_minor": 2
}
